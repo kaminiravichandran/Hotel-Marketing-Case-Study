{
 "cells": [
  {
   "cell_type": "code",
   "execution_count": 1,
   "metadata": {},
   "outputs": [],
   "source": [
    "import numpy as np\n",
    "import pandas as pd\n",
    "import matplotlib.pyplot as plt\n",
    "import matplotlib.image as mpimg\n",
    "%matplotlib inline\n",
    "import seaborn as sns"
   ]
  },
  {
   "cell_type": "code",
   "execution_count": 2,
   "metadata": {},
   "outputs": [],
   "source": [
    "case_study=pd.read_csv(\"Case_Study.csv\")"
   ]
  },
  {
   "cell_type": "code",
   "execution_count": 3,
   "metadata": {},
   "outputs": [
    {
     "data": {
      "text/html": [
       "<div>\n",
       "<style scoped>\n",
       "    .dataframe tbody tr th:only-of-type {\n",
       "        vertical-align: middle;\n",
       "    }\n",
       "\n",
       "    .dataframe tbody tr th {\n",
       "        vertical-align: top;\n",
       "    }\n",
       "\n",
       "    .dataframe thead th {\n",
       "        text-align: right;\n",
       "    }\n",
       "</style>\n",
       "<table border=\"1\" class=\"dataframe\">\n",
       "  <thead>\n",
       "    <tr style=\"text-align: right;\">\n",
       "      <th></th>\n",
       "      <th>Date</th>\n",
       "      <th>Geographic_Region</th>\n",
       "      <th>Platform</th>\n",
       "      <th>Marketing_Channel</th>\n",
       "      <th>Visits</th>\n",
       "      <th>Qualified_Shoppers</th>\n",
       "      <th>Bounced_Visits</th>\n",
       "      <th>Gross_Orders</th>\n",
       "      <th>Net_Orders</th>\n",
       "      <th>Net_Room_Nights</th>\n",
       "    </tr>\n",
       "  </thead>\n",
       "  <tbody>\n",
       "    <tr>\n",
       "      <td>0</td>\n",
       "      <td>1/1/2017</td>\n",
       "      <td>New York</td>\n",
       "      <td>Desktop</td>\n",
       "      <td>Channel 1</td>\n",
       "      <td>3011</td>\n",
       "      <td>1878</td>\n",
       "      <td>811</td>\n",
       "      <td>1139</td>\n",
       "      <td>957</td>\n",
       "      <td>1848</td>\n",
       "    </tr>\n",
       "    <tr>\n",
       "      <td>1</td>\n",
       "      <td>1/1/2017</td>\n",
       "      <td>New York</td>\n",
       "      <td>Desktop</td>\n",
       "      <td>Channel 2</td>\n",
       "      <td>119684</td>\n",
       "      <td>82504</td>\n",
       "      <td>26541</td>\n",
       "      <td>12489</td>\n",
       "      <td>10369</td>\n",
       "      <td>19897</td>\n",
       "    </tr>\n",
       "    <tr>\n",
       "      <td>2</td>\n",
       "      <td>1/1/2017</td>\n",
       "      <td>New York</td>\n",
       "      <td>Desktop</td>\n",
       "      <td>Channel 3</td>\n",
       "      <td>25612</td>\n",
       "      <td>11828</td>\n",
       "      <td>7398</td>\n",
       "      <td>1399</td>\n",
       "      <td>1139</td>\n",
       "      <td>2257</td>\n",
       "    </tr>\n",
       "    <tr>\n",
       "      <td>3</td>\n",
       "      <td>1/1/2017</td>\n",
       "      <td>New York</td>\n",
       "      <td>Desktop</td>\n",
       "      <td>Channel 4</td>\n",
       "      <td>3115</td>\n",
       "      <td>1463</td>\n",
       "      <td>1393</td>\n",
       "      <td>69</td>\n",
       "      <td>50</td>\n",
       "      <td>81</td>\n",
       "    </tr>\n",
       "    <tr>\n",
       "      <td>4</td>\n",
       "      <td>1/1/2017</td>\n",
       "      <td>New York</td>\n",
       "      <td>Desktop</td>\n",
       "      <td>Channel 5</td>\n",
       "      <td>5657</td>\n",
       "      <td>4307</td>\n",
       "      <td>1346</td>\n",
       "      <td>641</td>\n",
       "      <td>517</td>\n",
       "      <td>921</td>\n",
       "    </tr>\n",
       "  </tbody>\n",
       "</table>\n",
       "</div>"
      ],
      "text/plain": [
       "       Date Geographic_Region Platform Marketing_Channel  Visits  \\\n",
       "0  1/1/2017          New York  Desktop         Channel 1    3011   \n",
       "1  1/1/2017          New York  Desktop         Channel 2  119684   \n",
       "2  1/1/2017          New York  Desktop         Channel 3   25612   \n",
       "3  1/1/2017          New York  Desktop         Channel 4    3115   \n",
       "4  1/1/2017          New York  Desktop         Channel 5    5657   \n",
       "\n",
       "   Qualified_Shoppers  Bounced_Visits  Gross_Orders  Net_Orders  \\\n",
       "0                1878             811          1139         957   \n",
       "1               82504           26541         12489       10369   \n",
       "2               11828            7398          1399        1139   \n",
       "3                1463            1393            69          50   \n",
       "4                4307            1346           641         517   \n",
       "\n",
       "   Net_Room_Nights  \n",
       "0             1848  \n",
       "1            19897  \n",
       "2             2257  \n",
       "3               81  \n",
       "4              921  "
      ]
     },
     "execution_count": 3,
     "metadata": {},
     "output_type": "execute_result"
    }
   ],
   "source": [
    "case_study.head()"
   ]
  },
  {
   "cell_type": "code",
   "execution_count": 4,
   "metadata": {},
   "outputs": [
    {
     "data": {
      "text/plain": [
       "87776"
      ]
     },
     "execution_count": 4,
     "metadata": {},
     "output_type": "execute_result"
    }
   ],
   "source": [
    "len(case_study)"
   ]
  },
  {
   "cell_type": "code",
   "execution_count": 5,
   "metadata": {},
   "outputs": [
    {
     "data": {
      "text/plain": [
       "Date                  object\n",
       "Geographic_Region     object\n",
       "Platform              object\n",
       "Marketing_Channel     object\n",
       "Visits                 int64\n",
       "Qualified_Shoppers     int64\n",
       "Bounced_Visits         int64\n",
       "Gross_Orders           int64\n",
       "Net_Orders             int64\n",
       "Net_Room_Nights        int64\n",
       "dtype: object"
      ]
     },
     "execution_count": 5,
     "metadata": {},
     "output_type": "execute_result"
    }
   ],
   "source": [
    "case_study.dtypes"
   ]
  },
  {
   "cell_type": "code",
   "execution_count": 6,
   "metadata": {},
   "outputs": [
    {
     "data": {
      "text/plain": [
       "Date                  0\n",
       "Geographic_Region     0\n",
       "Platform              0\n",
       "Marketing_Channel     0\n",
       "Visits                0\n",
       "Qualified_Shoppers    0\n",
       "Bounced_Visits        0\n",
       "Gross_Orders          0\n",
       "Net_Orders            0\n",
       "Net_Room_Nights       0\n",
       "dtype: int64"
      ]
     },
     "execution_count": 6,
     "metadata": {},
     "output_type": "execute_result"
    }
   ],
   "source": [
    "case_study.isnull().sum()"
   ]
  },
  {
   "cell_type": "code",
   "execution_count": 7,
   "metadata": {},
   "outputs": [
    {
     "data": {
      "text/plain": [
       "array(['1/1/2017', '2/1/2017', '3/1/2017', ..., '29/12/2019',\n",
       "       '30/12/2019', '31/12/2019'], dtype=object)"
      ]
     },
     "execution_count": 7,
     "metadata": {},
     "output_type": "execute_result"
    }
   ],
   "source": [
    "case_study.Date.unique()"
   ]
  },
  {
   "cell_type": "code",
   "execution_count": 8,
   "metadata": {},
   "outputs": [
    {
     "data": {
      "text/plain": [
       "array(['Desktop', 'Mobile'], dtype=object)"
      ]
     },
     "execution_count": 8,
     "metadata": {},
     "output_type": "execute_result"
    }
   ],
   "source": [
    "case_study.Platform.unique()"
   ]
  },
  {
   "cell_type": "code",
   "execution_count": 9,
   "metadata": {},
   "outputs": [
    {
     "data": {
      "text/plain": [
       "array(['Channel 1', 'Channel 2', 'Channel 3', 'Channel 4', 'Channel 5',\n",
       "       'Channel 6', 'Channel 7', 'Channel 8', 'Channel 9', 'Channel 10',\n",
       "       'Channel 11'], dtype=object)"
      ]
     },
     "execution_count": 9,
     "metadata": {},
     "output_type": "execute_result"
    }
   ],
   "source": [
    "case_study.Marketing_Channel.unique()"
   ]
  },
  {
   "cell_type": "code",
   "execution_count": 10,
   "metadata": {},
   "outputs": [
    {
     "data": {
      "text/plain": [
       "array(['New York', 'Los Angeles', 'Dallas', 'Huntsville'], dtype=object)"
      ]
     },
     "execution_count": 10,
     "metadata": {},
     "output_type": "execute_result"
    }
   ],
   "source": [
    "case_study.Geographic_Region.unique()"
   ]
  },
  {
   "cell_type": "code",
   "execution_count": 11,
   "metadata": {},
   "outputs": [
    {
     "name": "stdout",
     "output_type": "stream",
     "text": [
      "<class 'pandas.core.frame.DataFrame'>\n",
      "RangeIndex: 87776 entries, 0 to 87775\n",
      "Data columns (total 10 columns):\n",
      "Date                  87776 non-null object\n",
      "Geographic_Region     87776 non-null object\n",
      "Platform              87776 non-null object\n",
      "Marketing_Channel     87776 non-null object\n",
      "Visits                87776 non-null int64\n",
      "Qualified_Shoppers    87776 non-null int64\n",
      "Bounced_Visits        87776 non-null int64\n",
      "Gross_Orders          87776 non-null int64\n",
      "Net_Orders            87776 non-null int64\n",
      "Net_Room_Nights       87776 non-null int64\n",
      "dtypes: int64(6), object(4)\n",
      "memory usage: 6.7+ MB\n"
     ]
    }
   ],
   "source": [
    "case_study.info()"
   ]
  },
  {
   "cell_type": "code",
   "execution_count": 12,
   "metadata": {},
   "outputs": [
    {
     "data": {
      "text/html": [
       "<div>\n",
       "<style scoped>\n",
       "    .dataframe tbody tr th:only-of-type {\n",
       "        vertical-align: middle;\n",
       "    }\n",
       "\n",
       "    .dataframe tbody tr th {\n",
       "        vertical-align: top;\n",
       "    }\n",
       "\n",
       "    .dataframe thead th {\n",
       "        text-align: right;\n",
       "    }\n",
       "</style>\n",
       "<table border=\"1\" class=\"dataframe\">\n",
       "  <thead>\n",
       "    <tr style=\"text-align: right;\">\n",
       "      <th></th>\n",
       "      <th>Visits</th>\n",
       "      <th>Qualified_Shoppers</th>\n",
       "      <th>Bounced_Visits</th>\n",
       "      <th>Gross_Orders</th>\n",
       "      <th>Net_Orders</th>\n",
       "      <th>Net_Room_Nights</th>\n",
       "    </tr>\n",
       "  </thead>\n",
       "  <tbody>\n",
       "    <tr>\n",
       "      <td>count</td>\n",
       "      <td>87776.000000</td>\n",
       "      <td>87776.000000</td>\n",
       "      <td>87776.000000</td>\n",
       "      <td>87776.000000</td>\n",
       "      <td>87776.000000</td>\n",
       "      <td>87776.000000</td>\n",
       "    </tr>\n",
       "    <tr>\n",
       "      <td>mean</td>\n",
       "      <td>27811.110736</td>\n",
       "      <td>12942.688081</td>\n",
       "      <td>12502.429821</td>\n",
       "      <td>1165.088168</td>\n",
       "      <td>940.076980</td>\n",
       "      <td>1994.250957</td>\n",
       "    </tr>\n",
       "    <tr>\n",
       "      <td>std</td>\n",
       "      <td>42476.870217</td>\n",
       "      <td>21942.037066</td>\n",
       "      <td>23045.713549</td>\n",
       "      <td>3159.710456</td>\n",
       "      <td>2551.822861</td>\n",
       "      <td>5502.335941</td>\n",
       "    </tr>\n",
       "    <tr>\n",
       "      <td>min</td>\n",
       "      <td>1.000000</td>\n",
       "      <td>0.000000</td>\n",
       "      <td>0.000000</td>\n",
       "      <td>0.000000</td>\n",
       "      <td>-100.000000</td>\n",
       "      <td>-267.000000</td>\n",
       "    </tr>\n",
       "    <tr>\n",
       "      <td>25%</td>\n",
       "      <td>4161.750000</td>\n",
       "      <td>1723.750000</td>\n",
       "      <td>1571.000000</td>\n",
       "      <td>75.000000</td>\n",
       "      <td>59.000000</td>\n",
       "      <td>129.000000</td>\n",
       "    </tr>\n",
       "    <tr>\n",
       "      <td>50%</td>\n",
       "      <td>12306.000000</td>\n",
       "      <td>5811.500000</td>\n",
       "      <td>4924.000000</td>\n",
       "      <td>329.000000</td>\n",
       "      <td>261.000000</td>\n",
       "      <td>555.000000</td>\n",
       "    </tr>\n",
       "    <tr>\n",
       "      <td>75%</td>\n",
       "      <td>33670.000000</td>\n",
       "      <td>15217.250000</td>\n",
       "      <td>13952.000000</td>\n",
       "      <td>1012.000000</td>\n",
       "      <td>807.000000</td>\n",
       "      <td>1659.000000</td>\n",
       "    </tr>\n",
       "    <tr>\n",
       "      <td>max</td>\n",
       "      <td>683764.000000</td>\n",
       "      <td>280919.000000</td>\n",
       "      <td>546089.000000</td>\n",
       "      <td>38354.000000</td>\n",
       "      <td>35318.000000</td>\n",
       "      <td>79141.000000</td>\n",
       "    </tr>\n",
       "  </tbody>\n",
       "</table>\n",
       "</div>"
      ],
      "text/plain": [
       "              Visits  Qualified_Shoppers  Bounced_Visits  Gross_Orders  \\\n",
       "count   87776.000000        87776.000000    87776.000000  87776.000000   \n",
       "mean    27811.110736        12942.688081    12502.429821   1165.088168   \n",
       "std     42476.870217        21942.037066    23045.713549   3159.710456   \n",
       "min         1.000000            0.000000        0.000000      0.000000   \n",
       "25%      4161.750000         1723.750000     1571.000000     75.000000   \n",
       "50%     12306.000000         5811.500000     4924.000000    329.000000   \n",
       "75%     33670.000000        15217.250000    13952.000000   1012.000000   \n",
       "max    683764.000000       280919.000000   546089.000000  38354.000000   \n",
       "\n",
       "         Net_Orders  Net_Room_Nights  \n",
       "count  87776.000000     87776.000000  \n",
       "mean     940.076980      1994.250957  \n",
       "std     2551.822861      5502.335941  \n",
       "min     -100.000000      -267.000000  \n",
       "25%       59.000000       129.000000  \n",
       "50%      261.000000       555.000000  \n",
       "75%      807.000000      1659.000000  \n",
       "max    35318.000000     79141.000000  "
      ]
     },
     "execution_count": 12,
     "metadata": {},
     "output_type": "execute_result"
    }
   ],
   "source": [
    "case_study.describe()"
   ]
  },
  {
   "cell_type": "code",
   "execution_count": 13,
   "metadata": {
    "scrolled": true
   },
   "outputs": [
    {
     "data": {
      "text/plain": [
       "Index(['Date', 'Geographic_Region', 'Platform', 'Marketing_Channel', 'Visits',\n",
       "       'Qualified_Shoppers', 'Bounced_Visits', 'Gross_Orders', 'Net_Orders',\n",
       "       'Net_Room_Nights'],\n",
       "      dtype='object')"
      ]
     },
     "execution_count": 13,
     "metadata": {},
     "output_type": "execute_result"
    },
    {
     "data": {
      "image/png": "[encoded data removed]",
      "text/plain": [
       "<Figure size 720x432 with 2 Axes>"
      ]
     },
     "metadata": {
      "needs_background": "light"
     },
     "output_type": "display_data"
    }
   ],
   "source": [
    "corr = case_study.corr(method='kendall')\n",
    "plt.figure(figsize=(10,6))\n",
    "sns.heatmap(corr, annot=True)\n",
    "case_study.columns"
   ]
  },
  {
   "cell_type": "code",
   "execution_count": 14,
   "metadata": {},
   "outputs": [],
   "source": [
    "from sklearn.linear_model import LogisticRegression\n",
    "from sklearn.linear_model import LinearRegression\n",
    "from sklearn.model_selection import train_test_split\n",
    "from sklearn.metrics import classification_report\n",
    "from sklearn.metrics import confusion_matrix\n",
    "from sklearn.metrics import r2_score"
   ]
  },
  {
   "cell_type": "code",
   "execution_count": 15,
   "metadata": {},
   "outputs": [],
   "source": [
    "from datetime import datetime\n",
    "\n",
    "case_study[\"D1\"] = pd.to_datetime(case_study['Date'], format = '%d/%m/%Y')"
   ]
  },
  {
   "cell_type": "code",
   "execution_count": 16,
   "metadata": {},
   "outputs": [
    {
     "data": {
      "text/plain": [
       "7775     1366\n",
       "33609     125\n",
       "67936    2415\n",
       "63633      50\n",
       "24874      25\n",
       "Name: Net_Room_Nights, dtype: int64"
      ]
     },
     "execution_count": 16,
     "metadata": {},
     "output_type": "execute_result"
    }
   ],
   "source": [
    "#Defining the independent variables and dependent variables\n",
    "x = case_study.iloc[:,[4,5,6,7,8]]\n",
    "y = case_study['Net_Room_Nights']\n",
    "#Getting Test and Training Set\n",
    "x_train,x_test,y_train,y_test=train_test_split(x,y,test_size=.1,random_state=353)\n",
    "x_train.head()\n",
    "y_train.head()"
   ]
  },
  {
   "cell_type": "code",
   "execution_count": 17,
   "metadata": {},
   "outputs": [
    {
     "data": {
      "text/plain": [
       "(78998, 5)"
      ]
     },
     "execution_count": 17,
     "metadata": {},
     "output_type": "execute_result"
    }
   ],
   "source": [
    "x_train.shape"
   ]
  },
  {
   "cell_type": "code",
   "execution_count": 18,
   "metadata": {},
   "outputs": [
    {
     "data": {
      "text/plain": [
       "(8778, 5)"
      ]
     },
     "execution_count": 18,
     "metadata": {},
     "output_type": "execute_result"
    }
   ],
   "source": [
    "x_test.shape"
   ]
  },
  {
   "cell_type": "code",
   "execution_count": 19,
   "metadata": {},
   "outputs": [
    {
     "data": {
      "text/plain": [
       "0.9886767459884487"
      ]
     },
     "execution_count": 19,
     "metadata": {},
     "output_type": "execute_result"
    }
   ],
   "source": [
    "#Prepare a Linear Regression Model\n",
    "reg=LinearRegression()\n",
    "reg.fit(x_train, y_train)\n",
    "y_pred=reg.predict(x_test)\n",
    "from sklearn.metrics import r2_score\n",
    "r2_score(y_test, y_pred)"
   ]
  },
  {
   "cell_type": "code",
   "execution_count": null,
   "metadata": {},
   "outputs": [],
   "source": []
  }
 ],
 "metadata": {
  "kernelspec": {
   "display_name": "Python 3",
   "language": "python",
   "name": "python3"
  },
  "language_info": {
   "codemirror_mode": {
    "name": "ipython",
    "version": 3
   },
   "file_extension": ".py",
   "mimetype": "text/x-python",
   "name": "python",
   "nbconvert_exporter": "python",
   "pygments_lexer": "ipython3",
   "version": "3.7.3"
  }
 },
 "nbformat": 4,
 "nbformat_minor": 2
}
